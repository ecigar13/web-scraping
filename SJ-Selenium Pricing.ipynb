{
 "cells": [
  {
   "cell_type": "markdown",
   "metadata": {},
   "source": [
    "### import os\n",
    "import pandas as pd \n",
    "\n",
    "os.chdir('/Users/sj/Desktop')\n",
    "\n",
    "types = pd.read_excel('Honeywell Obsolete Products.xlsx')\n",
    "types = types['Infrared Sensor Obsolescence - Affected Part Numbers']"
   ]
  },
  {
   "cell_type": "code",
   "execution_count": 1,
   "metadata": {},
   "outputs": [],
   "source": [
    "from selenium import webdriver\n",
    "from selenium.webdriver.common.desired_capabilities import DesiredCapabilities"
   ]
  },
  {
   "cell_type": "code",
   "execution_count": 2,
   "metadata": {},
   "outputs": [],
   "source": [
    "#伪装成 chrome的设置\n",
    "dcap = dict(DesiredCapabilities.PHANTOMJS)\n",
    "\n",
    "dcap['phantomjs.page.settings.userAgent'] = ('Mozilla/5.0 (Macintosh; Intel Mac OS X 10_12_6) AppleWebKit/537.36 (KHTML, like Gecko) Chrome/67.0.3396.87 Safari/537.36')"
   ]
  },
  {
   "cell_type": "code",
   "execution_count": 2,
   "metadata": {
    "scrolled": false
   },
   "outputs": [
    {
     "ename": "NameError",
     "evalue": "name 'webdriver' is not defined",
     "output_type": "error",
     "traceback": [
      "\u001b[0;31m---------------------------------------------------------------------------\u001b[0m",
      "\u001b[0;31mNameError\u001b[0m                                 Traceback (most recent call last)",
      "\u001b[0;32m<ipython-input-2-66389023be8b>\u001b[0m in \u001b[0;36m<module>\u001b[0;34m()\u001b[0m\n\u001b[1;32m      1\u001b[0m \u001b[0;31m# phantomjs 伪装成 chrome\u001b[0m\u001b[0;34m\u001b[0m\u001b[0;34m\u001b[0m\u001b[0m\n\u001b[1;32m      2\u001b[0m \u001b[0;34m\u001b[0m\u001b[0m\n\u001b[0;32m----> 3\u001b[0;31m browser = webdriver.PhantomJS(executable_path='/Users/sj/Downloads/phantomjs-2.1.1-macosx/bin/phantomjs',\n\u001b[0m\u001b[1;32m      4\u001b[0m                              desired_capabilities = dcap, service_args = ['--ignore-ssl-errors=true'])\n\u001b[1;32m      5\u001b[0m \u001b[0;34m\u001b[0m\u001b[0m\n",
      "\u001b[0;31mNameError\u001b[0m: name 'webdriver' is not defined"
     ]
    }
   ],
   "source": [
    "# phantomjs 伪装成 chrome\n",
    "\n",
    "# PhantomJS deprecated. Path also need to be fixed.\n",
    "browser = webdriver.PhantomJS(executable_path='/Users/sj/Downloads/phantomjs-2.1.1-macosx/bin/phantomjs',\n",
    "                             desired_capabilities = dcap, service_args = ['--ignore-ssl-errors=true'])\n",
    "\n",
    "browser.implicitly_wait(10) # 睡眠10秒等待加载\n",
    "\n",
    "browser.get(\"https://www.eciaauthorized.com/en/search/HLC1395-001\")"
   ]
  },
  {
   "cell_type": "code",
   "execution_count": 20,
   "metadata": {},
   "outputs": [],
   "source": [
    "html = browser.page_source # 网页源代码"
   ]
  },
  {
   "cell_type": "code",
   "execution_count": 33,
   "metadata": {},
   "outputs": [],
   "source": [
    "from bs4 import BeautifulSoup"
   ]
  },
  {
   "cell_type": "code",
   "execution_count": 34,
   "metadata": {},
   "outputs": [],
   "source": [
    "soup = BeautifulSoup(html,'lxml')"
   ]
  },
  {
   "cell_type": "code",
   "execution_count": 92,
   "metadata": {},
   "outputs": [],
   "source": [
    "items = soup.select_one('div.ShowExactMatches tbody')"
   ]
  },
  {
   "cell_type": "code",
   "execution_count": 90,
   "metadata": {},
   "outputs": [
    {
     "name": "stdout",
     "output_type": "stream",
     "text": [
      "<tr class=\"search-exact-match \" data-cur=\"USD\" data-dist=\"Onlinecomponents.com [1336]\" data-mfr=\"Honeywell [353]\" data-mpn=\"HLC1395-001\" data-parent-sortorder=\"\" data-sortorder=\"01-01301-07050\" data-source=\"Website\" data-stock-avail=\"In Stock &lt;br&gt;1,000 On Order\" data-stock-qty=\"846\" index=\"index\"><td class=\"DistributorCell\" title=\"Onlinecomponents.com\"><div><span class=\"hidden-xs\"><a data-ga=\"s:Part\" href=\"https://www.onlinecomponents.com/honeywell-hlc1395001.html?p=11934363&amp;utm_source=eciaauth&amp;amp;utm_medium=inventoryrefferal&amp;amp;utm_campaign=eciaauth\" target=\"_blank\"><img alt=\"Onlinecomponents.com\" class=\"Logo Sponsor\" src=\"https://cdn.eciaauthorized.com/assets/images/companies/onlinecomponents_sponsor.png\"/></a> <br/><br/></span> <span class=\"visible-xs\">Onlinecomponents.com</span> <!-- --></div></td> <td><div class=\"visible-sm visible-xs\">Honeywell</div> <div class=\"SearchResultPartNumber\"><a data-ga=\"s:Part\" href=\"https://www.onlinecomponents.com/honeywell-hlc1395001.html?p=11934363&amp;utm_source=eciaauth&amp;amp;utm_medium=inventoryrefferal&amp;amp;utm_campaign=eciaauth\" target=\"_blank\">HLC1395-001</a></div></td> <td class=\"hidden-sm hidden-xs\">\n",
      "        Honeywell\n",
      "    </td> <td class=\"hidden-sm hidden-xs\"><span>\n",
      "            Over 10,000 Honeywell part #s In-Stock. Super Pricing, Easy Checkout, &amp; Flat Rate Shipping.\n",
      "        </span></td> <td class=\"StandardCell hidden-xs hidden-sm hidden-md\"><span>\n",
      "            Yes<br/></span></td> <td class=\"StandardCell hidden-xs\"><a data-ga=\"s:Datasheet\" href=\"http://download.siliconexpert.com/pdfs/2005/04/01/semi_b/cs/hnw/ds/hlc1395-001.pdf\" target=\"_blank\">Datasheet</a></td> <td class=\"StandardCell hidden-xs hidden-sm hidden-md\">\n",
      "        HLC1395-001\n",
      "    </td> <td class=\"StockCell\"><div>\n",
      "            846\n",
      "            <br/> <div>In Stock <br/>1,000 On Order</div></div> <!-- --> <!-- --></td> <td class=\"text-nowrap hidden-xs hidden-sm\"><table class=\"PricingTable\"><tr><td class=\"text-right\">1: </td> <td class=\"text-left\">$3.50</td></tr><tr><td class=\"text-right\">25: </td> <td class=\"text-left\">$3.32</td></tr><tr><td class=\"text-right\">100: </td> <td class=\"text-left\">$3.16</td></tr><tr><td class=\"text-right\">500: </td> <td class=\"text-left\">$3.00</td></tr><tr><td class=\"text-right\">1,000: </td> <td class=\"text-left\">$2.89</td></tr> <tr class=\"text-center\"><td colspan=\"2\"><a class=\"Expander\" href=\"javascript:;\" onclick=\"return ExpandPricing(this);\" rel=\"nofollow\">See More...</a></td></tr> <tr class=\"hidden\"><td class=\"text-right\">5,000: </td> <td class=\"text-left\">$2.82</td></tr></table></td> <td class=\"text-nowrap hidden-md hidden-lg\"><table class=\"PricingTable\"><tr><td class=\"text-right\">1: </td> <td class=\"text-left\">$3.50</td></tr><tr><td class=\"text-right\">25: </td> <td class=\"text-left\">$3.32</td></tr> <tr class=\"text-center\"><td colspan=\"2\"><a class=\"Expander\" href=\"javascript:;\" onclick=\"return ExpandPricing(this);\" rel=\"nofollow\">See More...</a></td></tr> <tr class=\"hidden\"><td class=\"text-right\">100: </td> <td class=\"text-left\">$3.16</td></tr><tr class=\"hidden\"><td class=\"text-right\">500: </td> <td class=\"text-left\">$3.00</td></tr><tr class=\"hidden\"><td class=\"text-right\">1,000: </td> <td class=\"text-left\">$2.89</td></tr><tr class=\"hidden\"><td class=\"text-right\">5,000: </td> <td class=\"text-left\">$2.82</td></tr></table></td> <td class=\"StandardCell hidden-xs hidden-sm hidden-md\">\n",
      "        USD\n",
      "    </td> <td><a class=\"BuyLink ShortBuyLink\" data-ga=\"s:Buy\" href=\"https://www.onlinecomponents.com/honeywell-hlc1395001.html?p=11934363&amp;utm_source=eciaauth&amp;amp;utm_medium=inventoryrefferal&amp;amp;utm_campaign=eciaauth\" target=\"_blank\">Buy</a> <!-- --></td></tr>\n",
      "<tr class=\"search-exact-match Even \" data-cur=\"USD\" data-dist=\"Digi-Key [4]\" data-mfr=\"Honeywell Sensing &amp; IoT [143]\" data-mpn=\"HLC1395-001\" data-parent-sortorder=\"\" data-sortorder=\"01-04724-00378\" data-source=\"Website\" data-stock-avail=\"In Stock\" data-stock-qty=\"184\" index=\"index\"><td class=\"DistributorCell\" title=\"Digi-Key\"><div><span class=\"hidden-xs\"><a data-ga=\"s:Part\" href=\"https://www.digikey.com:443/product-detail/en/honeywell-sensing-and-productivity-solutions/HLC1395-001/480-1948-ND/679359?WT.z_cid=ref_neda_dkc_buynow&amp;utm_source=ecia&amp;utm_medium=aggregator&amp;utm_campaign=buynow\" target=\"_blank\"><img alt=\"Digi-Key\" class=\"Logo Sponsor\" src=\"https://cdn.eciaauthorized.com/assets/images/companies/digikey.png\"/></a> <br/><br/></span> <span class=\"visible-xs\">Digi-Key</span> <!-- --></div></td> <td><div class=\"visible-sm visible-xs\">Honeywell Sensing &amp; IoT</div> <div class=\"SearchResultPartNumber\"><a data-ga=\"s:Part\" href=\"https://www.digikey.com:443/product-detail/en/honeywell-sensing-and-productivity-solutions/HLC1395-001/480-1948-ND/679359?WT.z_cid=ref_neda_dkc_buynow&amp;utm_source=ecia&amp;utm_medium=aggregator&amp;utm_campaign=buynow\" target=\"_blank\">HLC1395-001</a></div></td> <td class=\"hidden-sm hidden-xs\">\n",
      "        Honeywell Sensing &amp; IoT\n",
      "    </td> <td class=\"hidden-sm hidden-xs\"><span>\n",
      "            SENSR OPTO TRANS 1.02MM REFL PCB\n",
      "        </span></td> <td class=\"StandardCell hidden-xs hidden-sm hidden-md\"><span>\n",
      "            Yes<br/></span></td> <td class=\"StandardCell hidden-xs\"><a data-ga=\"s:Datasheet\" href=\"http://sensing.honeywell.com/index.php/ci_id/50389/la_id/1/document/1/re_id/0\" target=\"_blank\">Datasheet</a></td> <td class=\"StandardCell hidden-xs hidden-sm hidden-md\">\n",
      "        480-1948-ND\n",
      "    </td> <td class=\"StockCell\"><div>\n",
      "            184\n",
      "            <br/> <div>In Stock</div></div> <!-- --> <!-- --></td> <td class=\"text-nowrap hidden-xs hidden-sm\"><table class=\"PricingTable\"><tr><td class=\"text-right\">1: </td> <td class=\"text-left\">$5.49</td></tr><tr><td class=\"text-right\">10: </td> <td class=\"text-left\">$3.757</td></tr><tr><td class=\"text-right\">25: </td> <td class=\"text-left\">$3.38</td></tr><tr><td class=\"text-right\">50: </td> <td class=\"text-left\">$3.164</td></tr><tr><td class=\"text-right\">100: </td> <td class=\"text-left\">$2.9884</td></tr> <!-- --> </table></td> <td class=\"text-nowrap hidden-md hidden-lg\"><table class=\"PricingTable\"><tr><td class=\"text-right\">1: </td> <td class=\"text-left\">$5.49</td></tr><tr><td class=\"text-right\">10: </td> <td class=\"text-left\">$3.757</td></tr> <tr class=\"text-center\"><td colspan=\"2\"><a class=\"Expander\" href=\"javascript:;\" onclick=\"return ExpandPricing(this);\" rel=\"nofollow\">See More...</a></td></tr> <tr class=\"hidden\"><td class=\"text-right\">25: </td> <td class=\"text-left\">$3.38</td></tr><tr class=\"hidden\"><td class=\"text-right\">50: </td> <td class=\"text-left\">$3.164</td></tr><tr class=\"hidden\"><td class=\"text-right\">100: </td> <td class=\"text-left\">$2.9884</td></tr></table></td> <td class=\"StandardCell hidden-xs hidden-sm hidden-md\">\n",
      "        USD\n",
      "    </td> <td><a class=\"BuyLink ShortBuyLink\" data-ga=\"s:Buy\" href=\"https://www.digikey.com:443/product-detail/en/honeywell-sensing-and-productivity-solutions/HLC1395-001/480-1948-ND/679359?WT.z_cid=ref_neda_dkc_buynow&amp;utm_source=ecia&amp;utm_medium=aggregator&amp;utm_campaign=buynow\" target=\"_blank\">Buy</a> <!-- --></td></tr>\n",
      "<tr class=\"search-exact-match \" data-cur=\"USD\" data-dist=\"TTI [9]\" data-mfr=\"Honeywell [353]\" data-mpn=\"HLC1395-001\" data-parent-sortorder=\"\" data-sortorder=\"01-05019-02282\" data-source=\"Website\" data-stock-avail=\"In Stock\" data-stock-qty=\"20\" index=\"index\"><td class=\"DistributorCell\" title=\"TTI\"><div><span class=\"hidden-xs\"><a data-ga=\"s:Part\" href=\"https://www.ttiinc.com/content/ttiinc/en/apps/part-detail.html?partsNumber=HLC1395-001&amp;mfgShortname=HON&amp;utm=ECIA\" target=\"_blank\"><img alt=\"TTI\" class=\"Logo Sponsor\" src=\"https://cdn.eciaauthorized.com/assets/images/companies/tti-horizontal-logo.png\"/></a> <br/><br/></span> <span class=\"visible-xs\">TTI</span> <!-- --></div></td> <td><div class=\"visible-sm visible-xs\">Honeywell</div> <div class=\"SearchResultPartNumber\"><a data-ga=\"s:Part\" href=\"https://www.ttiinc.com/content/ttiinc/en/apps/part-detail.html?partsNumber=HLC1395-001&amp;mfgShortname=HON&amp;utm=ECIA\" target=\"_blank\">HLC1395-001</a></div></td> <td class=\"hidden-sm hidden-xs\">\n",
      "        Honeywell\n",
      "    </td> <td class=\"hidden-sm hidden-xs\"><span>\n",
      "            Optical Switches, Reflective, Phototransistor Output Reflective Short Dis. Detection\n",
      "        </span></td> <td class=\"StandardCell hidden-xs hidden-sm hidden-md\"><span>\n",
      "            Yes<br/></span></td> <td class=\"StandardCell hidden-xs\"><a data-ga=\"s:Datasheet\" href=\"http://sensing.honeywell.com/index.php?ci_id=50389\" target=\"_blank\">Datasheet</a></td> <td class=\"StandardCell hidden-xs hidden-sm hidden-md\">\n",
      "        HLC1395-001\n",
      "    </td> <td class=\"StockCell\"><div>\n",
      "            20\n",
      "            <br/> <div>In Stock</div></div> <!-- --> <!-- --></td> <td class=\"text-nowrap hidden-xs hidden-sm\"><table class=\"PricingTable\"> <!-- --> </table></td> <td class=\"text-nowrap hidden-md hidden-lg\"><table class=\"PricingTable\"> <!-- --> </table></td> <td class=\"StandardCell hidden-xs hidden-sm hidden-md\">\n",
      "        USD\n",
      "    </td> <td><a class=\"BuyLink ShortBuyLink\" data-ga=\"s:Buy\" href=\"https://www.ttiinc.com/content/ttiinc/en/apps/part-detail.html?partsNumber=HLC1395-001&amp;mfgShortname=HON&amp;utm=ECIA\" target=\"_blank\">Buy</a> <!-- --></td></tr>\n",
      "<tr class=\"search-exact-match Even \" data-cur=\"USD\" data-dist=\"Mouser Electronics [6]\" data-mfr=\"Honeywell [353]\" data-mpn=\"HLC1395-001\" data-parent-sortorder=\"\" data-sortorder=\"01-07294-09778\" data-source=\"Website\" data-stock-avail=\"In Stock\" data-stock-qty=\"66\" index=\"index\"><td class=\"DistributorCell\" title=\"Mouser Electronics\"><div><span class=\"hidden-xs\"><a data-ga=\"s:Part\" href=\"https://www.mouser.com/ProductDetail/Honeywell/HLC1395-001?qs=OmWMh1k3VihhrDc9500ATQ%3d%3d&amp;utm_source=eciaauthorized&amp;utm_medium=aggregator&amp;utm_campaign=HLC1395-001&amp;utm_term=HLC1395-001&amp;utm_content=Honeywell\" target=\"_blank\"><img alt=\"Mouser Electronics\" class=\"Logo Sponsor\" src=\"https://cdn.eciaauthorized.com/assets/images/companies/mouser.png\"/></a> <br/><br/></span> <span class=\"visible-xs\">Mouser Electronics</span> <!-- --></div></td> <td><div class=\"visible-sm visible-xs\">Honeywell</div> <div class=\"SearchResultPartNumber\"><a data-ga=\"s:Part\" href=\"https://www.mouser.com/ProductDetail/Honeywell/HLC1395-001?qs=OmWMh1k3VihhrDc9500ATQ%3d%3d&amp;utm_source=eciaauthorized&amp;utm_medium=aggregator&amp;utm_campaign=HLC1395-001&amp;utm_term=HLC1395-001&amp;utm_content=Honeywell\" target=\"_blank\">HLC1395-001</a></div></td> <td class=\"hidden-sm hidden-xs\">\n",
      "        Honeywell\n",
      "    </td> <td class=\"hidden-sm hidden-xs\"><span>\n",
      "            Optical Switches, Reflective, Phototransistor Output Reflective Short Dis. Detection, End of Life\n",
      "        </span></td> <td class=\"StandardCell hidden-xs hidden-sm hidden-md\"><span>\n",
      "            Yes<br/></span></td> <td class=\"StandardCell hidden-xs\"><a data-ga=\"s:Datasheet\" href=\"https://www.mouser.com/datasheet/2/187/Pg_240-910317.pdf\" target=\"_blank\">Datasheet</a></td> <td class=\"StandardCell hidden-xs hidden-sm hidden-md\">\n",
      "        785-HLC1395-001\n",
      "    </td> <td class=\"StockCell\"><div>\n",
      "            66\n",
      "            <br/> <div>In Stock</div></div> <!-- --> <!-- --></td> <td class=\"text-nowrap hidden-xs hidden-sm\"><table class=\"PricingTable\"><tr><td class=\"text-right\">1: </td> <td class=\"text-left\">$5.34</td></tr><tr><td class=\"text-right\">10: </td> <td class=\"text-left\">$3.69</td></tr><tr><td class=\"text-right\">50: </td> <td class=\"text-left\">$3.12</td></tr><tr><td class=\"text-right\">100: </td> <td class=\"text-left\">$2.95</td></tr><tr><td class=\"text-right\">200: </td> <td class=\"text-left\">$2.76</td></tr> <tr class=\"text-center\"><td colspan=\"2\"><a class=\"Expander\" href=\"javascript:;\" onclick=\"return ExpandPricing(this);\" rel=\"nofollow\">See More...</a></td></tr> <tr class=\"hidden\"><td class=\"text-right\">500: </td> <td class=\"text-left\">$2.68</td></tr><tr class=\"hidden\"><td class=\"text-right\">1,000: </td> <td class=\"text-left\">$2.58</td></tr><tr class=\"hidden\"><td class=\"text-right\">2,500: </td> <td class=\"text-left\">$2.46</td></tr></table></td> <td class=\"text-nowrap hidden-md hidden-lg\"><table class=\"PricingTable\"><tr><td class=\"text-right\">1: </td> <td class=\"text-left\">$5.34</td></tr><tr><td class=\"text-right\">10: </td> <td class=\"text-left\">$3.69</td></tr> <tr class=\"text-center\"><td colspan=\"2\"><a class=\"Expander\" href=\"javascript:;\" onclick=\"return ExpandPricing(this);\" rel=\"nofollow\">See More...</a></td></tr> <tr class=\"hidden\"><td class=\"text-right\">50: </td> <td class=\"text-left\">$3.12</td></tr><tr class=\"hidden\"><td class=\"text-right\">100: </td> <td class=\"text-left\">$2.95</td></tr><tr class=\"hidden\"><td class=\"text-right\">200: </td> <td class=\"text-left\">$2.76</td></tr><tr class=\"hidden\"><td class=\"text-right\">500: </td> <td class=\"text-left\">$2.68</td></tr><tr class=\"hidden\"><td class=\"text-right\">1,000: </td> <td class=\"text-left\">$2.58</td></tr><tr class=\"hidden\"><td class=\"text-right\">2,500: </td> <td class=\"text-left\">$2.46</td></tr></table></td> <td class=\"StandardCell hidden-xs hidden-sm hidden-md\">\n",
      "        USD\n",
      "    </td> <td><a class=\"BuyLink ShortBuyLink\" data-ga=\"s:Buy\" href=\"https://www.mouser.com/ProductDetail/Honeywell/HLC1395-001?qs=OmWMh1k3VihhrDc9500ATQ%3d%3d&amp;utm_source=eciaauthorized&amp;utm_medium=aggregator&amp;utm_campaign=HLC1395-001&amp;utm_term=HLC1395-001&amp;utm_content=Honeywell\" target=\"_blank\">Buy</a> <!-- --></td></tr>\n",
      "<tr class=\"search-exact-match \" data-cur=\"USD\" data-dist=\"Allied Electronics [1]\" data-mfr=\"Honeywell [353]\" data-mpn=\"HLC1395-001\" data-parent-sortorder=\"\" data-sortorder=\"01-07974-08245\" data-source=\"Website\" data-stock-avail=\"Available Immediately\" data-stock-qty=\"28\" index=\"index\"><td class=\"DistributorCell\" title=\"Allied Electronics &amp; Automation\"><div><span class=\"hidden-xs\"><a data-ga=\"s:Part\" href=\"https://www.alliedelec.com/honeywell-hlc1395-001/70019973/\" target=\"_blank\"><img alt=\"Allied Electronics &amp; Automation\" class=\"Logo Sponsor\" src=\"https://cdn.eciaauthorized.com/assets/images/companies/allied_small_cropped_logo.png\"/></a> <br/><br/></span> <span class=\"visible-xs\">Allied Electronics</span> <!-- --></div></td> <td><div class=\"visible-sm visible-xs\">Honeywell</div> <div class=\"SearchResultPartNumber\"><a data-ga=\"s:Part\" href=\"https://www.alliedelec.com/honeywell-hlc1395-001/70019973/\" target=\"_blank\">HLC1395-001</a></div></td> <td class=\"hidden-sm hidden-xs\">\n",
      "        Honeywell\n",
      "    </td> <td class=\"hidden-sm hidden-xs\"><span>\n",
      "            Sensor; Reflective; Opaque Polysulfone (Housing-Outer Shell)\n",
      "        </span></td> <td class=\"StandardCell hidden-xs hidden-sm hidden-md\"><span>\n",
      "            Yes<br/></span></td> <td class=\"StandardCell hidden-xs\"><a data-ga=\"s:Datasheet\" href=\"https://www.alliedelec.com/m/d/bcde840b126f36ba6fc220763efd4ec2.pdf\" target=\"_blank\">Datasheet</a></td> <td class=\"StandardCell hidden-xs hidden-sm hidden-md\">\n",
      "        70019973\n",
      "    </td> <td class=\"StockCell\"><div>\n",
      "            28\n",
      "            <br/> <div>Available Immediately</div></div> <!-- --> <!-- --></td> <td class=\"text-nowrap hidden-xs hidden-sm\"><table class=\"PricingTable\"><tr><td class=\"text-right\">1: </td> <td class=\"text-left\">$3.93</td></tr><tr><td class=\"text-right\">3: </td> <td class=\"text-left\">$3.75</td></tr><tr><td class=\"text-right\">5: </td> <td class=\"text-left\">$3.60</td></tr><tr><td class=\"text-right\">10: </td> <td class=\"text-left\">$3.40</td></tr><tr><td class=\"text-right\">25: </td> <td class=\"text-left\">$3.12</td></tr> <tr class=\"text-center\"><td colspan=\"2\"><a class=\"Expander\" href=\"javascript:;\" onclick=\"return ExpandPricing(this);\" rel=\"nofollow\">See More...</a></td></tr> <tr class=\"hidden\"><td class=\"text-right\">50: </td> <td class=\"text-left\">$2.64</td></tr></table></td> <td class=\"text-nowrap hidden-md hidden-lg\"><table class=\"PricingTable\"><tr><td class=\"text-right\">1: </td> <td class=\"text-left\">$3.93</td></tr><tr><td class=\"text-right\">3: </td> <td class=\"text-left\">$3.75</td></tr> <tr class=\"text-center\"><td colspan=\"2\"><a class=\"Expander\" href=\"javascript:;\" onclick=\"return ExpandPricing(this);\" rel=\"nofollow\">See More...</a></td></tr> <tr class=\"hidden\"><td class=\"text-right\">5: </td> <td class=\"text-left\">$3.60</td></tr><tr class=\"hidden\"><td class=\"text-right\">10: </td> <td class=\"text-left\">$3.40</td></tr><tr class=\"hidden\"><td class=\"text-right\">25: </td> <td class=\"text-left\">$3.12</td></tr><tr class=\"hidden\"><td class=\"text-right\">50: </td> <td class=\"text-left\">$2.64</td></tr></table></td> <td class=\"StandardCell hidden-xs hidden-sm hidden-md\">\n",
      "        USD\n",
      "    </td> <td><a class=\"BuyLink ShortBuyLink\" data-ga=\"s:Buy\" href=\"https://www.alliedelec.com/honeywell-hlc1395-001/70019973/\" target=\"_blank\">Buy</a> <!-- --></td></tr>\n",
      "<tr class=\"search-exact-match Even \" data-cur=\"USD\" data-dist=\"Master Electronics [59]\" data-mfr=\"Honeywell [353]\" data-mpn=\"HLC1395-001\" data-parent-sortorder=\"\" data-sortorder=\"02-07257-02310\" data-source=\"Website\" data-stock-avail=\"In Stock 2000 On Order\" data-stock-qty=\"846\" index=\"index\"><td class=\"DistributorCell\" title=\"Master Electronics\"><div><span class=\"hidden-xs\"><a data-ga=\"s:Part\" href=\"https://www.masterelectronics.com/honeywell/hlc1395001-11934363.html\" target=\"_blank\"><img alt=\"Master Electronics\" class=\"Logo Sponsor\" src=\"https://cdn.eciaauthorized.com/assets/images/companies/master.png\"/></a> <br/><br/></span> <span class=\"visible-xs\">Master Electronics</span> <!-- --></div></td> <td><div class=\"visible-sm visible-xs\">Honeywell</div> <div class=\"SearchResultPartNumber\"><a data-ga=\"s:Part\" href=\"https://www.masterelectronics.com/honeywell/hlc1395001-11934363.html\" target=\"_blank\">HLC1395-001</a></div></td> <td class=\"hidden-sm hidden-xs\">\n",
      "        Honeywell\n",
      "    </td> <td class=\"hidden-sm hidden-xs\"><span>\n",
      "            Photointerrupter Reflective Phototransistor 3-Pin Side Looker\n",
      "        </span></td> <td class=\"StandardCell hidden-xs hidden-sm hidden-md\"><span>\n",
      "            Yes<br/></span></td> <td class=\"StandardCell hidden-xs\"><a data-ga=\"s:Datasheet\" href=\"http://download.siliconexpert.com/pdfs/2005/04/01/semi_b/cs/hnw/ds/hlc1395-001.pdf\" target=\"_blank\">Datasheet</a></td> <td class=\"StandardCell hidden-xs hidden-sm hidden-md\">\n",
      "        HLC1395-001\n",
      "    </td> <td class=\"StockCell\"><div>\n",
      "            846\n",
      "            <br/> <div>In Stock 2000 On Order</div></div> <!-- --> <!-- --></td> <td class=\"text-nowrap hidden-xs hidden-sm\"><table class=\"PricingTable\"><tr><td class=\"text-right\">1: </td> <td class=\"text-left\">$3.50</td></tr><tr><td class=\"text-right\">25: </td> <td class=\"text-left\">$3.32</td></tr><tr><td class=\"text-right\">100: </td> <td class=\"text-left\">$3.16</td></tr><tr><td class=\"text-right\">500: </td> <td class=\"text-left\">$3.00</td></tr><tr><td class=\"text-right\">1,000: </td> <td class=\"text-left\">$2.89</td></tr> <tr class=\"text-center\"><td colspan=\"2\"><a class=\"Expander\" href=\"javascript:;\" onclick=\"return ExpandPricing(this);\" rel=\"nofollow\">See More...</a></td></tr> <tr class=\"hidden\"><td class=\"text-right\">5,000: </td> <td class=\"text-left\">$2.82</td></tr></table></td> <td class=\"text-nowrap hidden-md hidden-lg\"><table class=\"PricingTable\"><tr><td class=\"text-right\">1: </td> <td class=\"text-left\">$3.50</td></tr><tr><td class=\"text-right\">25: </td> <td class=\"text-left\">$3.32</td></tr> <tr class=\"text-center\"><td colspan=\"2\"><a class=\"Expander\" href=\"javascript:;\" onclick=\"return ExpandPricing(this);\" rel=\"nofollow\">See More...</a></td></tr> <tr class=\"hidden\"><td class=\"text-right\">100: </td> <td class=\"text-left\">$3.16</td></tr><tr class=\"hidden\"><td class=\"text-right\">500: </td> <td class=\"text-left\">$3.00</td></tr><tr class=\"hidden\"><td class=\"text-right\">1,000: </td> <td class=\"text-left\">$2.89</td></tr><tr class=\"hidden\"><td class=\"text-right\">5,000: </td> <td class=\"text-left\">$2.82</td></tr></table></td> <td class=\"StandardCell hidden-xs hidden-sm hidden-md\">\n",
      "        USD\n",
      "    </td> <td><a class=\"BuyLink ShortBuyLink\" data-ga=\"s:Buy\" href=\"https://www.masterelectronics.com/honeywell/hlc1395001-11934363.html\" target=\"_blank\">Buy</a> <!-- --></td></tr>\n",
      "<tr class=\"search-exact-match \" data-cur=\"USD\" data-dist=\"Electro Sonic [36]\" data-mfr=\"Honeywell [353]\" data-mpn=\"HLC1395-001\" data-parent-sortorder=\"\" data-sortorder=\"03-06727-00649\" data-source=\"Website\" data-stock-avail=\"In Stock 2000 On Order\" data-stock-qty=\"846\" index=\"index\"><td class=\"DistributorCell\" title=\"Electro Sonic\"><div><span class=\"hidden-xs\"><a data-ga=\"s:Part\" href=\"https://www.e-sonic.com/product-detail/honeywell/hlc1395001.html?p=11934363&amp;ref=ECIAFeed\" target=\"_blank\"><img alt=\"Electro Sonic\" class=\"Logo\" src=\"https://cdn.eciaauthorized.com/assets/images/companies/electro-sonic-stackedlogo.png\"/></a> <br/><br/></span> <span class=\"visible-xs\">Electro Sonic</span> <!-- --></div></td> <td><div class=\"visible-sm visible-xs\">Honeywell</div> <div class=\"SearchResultPartNumber\"><a data-ga=\"s:Part\" href=\"https://www.e-sonic.com/product-detail/honeywell/hlc1395001.html?p=11934363&amp;ref=ECIAFeed\" target=\"_blank\">HLC1395-001</a></div></td> <td class=\"hidden-sm hidden-xs\">\n",
      "        Honeywell\n",
      "    </td> <td class=\"hidden-sm hidden-xs\"><span title=\"Serving the Canadian Market for over 60 Years! Click or Call us for personal service &amp; technical support.\">\n",
      "            Serving the Canadian Market for over 60 Years! Click or Call us for personal service &amp; technical  <a class=\"Expander\" href=\"javascript:;\" onclick=\"return ExpandText(this);\" rel=\"nofollow\">See More...</a></span></td> <td class=\"StandardCell hidden-xs hidden-sm hidden-md\"><span>\n",
      "            Yes<br/></span></td> <td class=\"StandardCell hidden-xs\"><a data-ga=\"s:Datasheet\" href=\"http://download.siliconexpert.com/pdfs/2005/04/01/semi_b/cs/hnw/ds/hlc1395-001.pdf\" target=\"_blank\">Datasheet</a></td> <td class=\"StandardCell hidden-xs hidden-sm hidden-md\">\n",
      "        HLC1395-001\n",
      "    </td> <td class=\"StockCell\"><div>\n",
      "            846\n",
      "            <br/> <div>In Stock 2000 On Order</div></div> <!-- --> <!-- --></td> <td class=\"text-nowrap hidden-xs hidden-sm\"><table class=\"PricingTable\"><tr><td class=\"text-right\">1: </td> <td class=\"text-left\">$3.71</td></tr><tr><td class=\"text-right\">25: </td> <td class=\"text-left\">$3.5192</td></tr><tr><td class=\"text-right\">100: </td> <td class=\"text-left\">$3.3496</td></tr><tr><td class=\"text-right\">500: </td> <td class=\"text-left\">$3.18</td></tr> <!-- --> </table></td> <td class=\"text-nowrap hidden-md hidden-lg\"><table class=\"PricingTable\"><tr><td class=\"text-right\">1: </td> <td class=\"text-left\">$3.71</td></tr><tr><td class=\"text-right\">25: </td> <td class=\"text-left\">$3.5192</td></tr> <tr class=\"text-center\"><td colspan=\"2\"><a class=\"Expander\" href=\"javascript:;\" onclick=\"return ExpandPricing(this);\" rel=\"nofollow\">See More...</a></td></tr> <tr class=\"hidden\"><td class=\"text-right\">100: </td> <td class=\"text-left\">$3.3496</td></tr><tr class=\"hidden\"><td class=\"text-right\">500: </td> <td class=\"text-left\">$3.18</td></tr></table></td> <td class=\"StandardCell hidden-xs hidden-sm hidden-md\">\n",
      "        USD\n",
      "    </td> <td><a class=\"BuyLink ShortBuyLink\" data-ga=\"s:Buy\" href=\"https://www.e-sonic.com/product-detail/honeywell/hlc1395001.html?p=11934363&amp;ref=ECIAFeed\" target=\"_blank\">Buy</a> <!-- --></td></tr>\n",
      "<tr class=\"search-exact-match Even \" data-cur=\"USD\" data-dist=\"Newark [7]\" data-mfr=\"Honeywell [353]\" data-mpn=\"HLC1395-001\" data-parent-sortorder=\"\" data-sortorder=\"09-00737-29280\" data-source=\"Website\" data-stock-avail=\"Out of Stock\" data-stock-qty=\"0\" index=\"index\"><td class=\"DistributorCell\" title=\"Newark\"><div><span class=\"hidden-xs\"><a data-ga=\"s:Part\" href=\"http://www.newark.com/05M0281?CMP=AFC-ECIA\" target=\"_blank\"><img alt=\"Newark\" class=\"Logo Sponsor\" src=\"https://cdn.eciaauthorized.com/assets/images/companies/newark.png\"/></a> <br/><br/></span> <span class=\"visible-xs\">Newark</span> <!-- --></div></td> <td><div class=\"visible-sm visible-xs\">Honeywell</div> <div class=\"SearchResultPartNumber\"><a data-ga=\"s:Part\" href=\"http://www.newark.com/05M0281?CMP=AFC-ECIA\" target=\"_blank\">HLC1395-001</a></div></td> <td class=\"hidden-sm hidden-xs\">\n",
      "        Honeywell\n",
      "    </td> <td class=\"hidden-sm hidden-xs\"><span title=\"OPTOSWITCH; Sensor Output:Phototransistor; Sensor Mounting:Through Hole; Sensing Distance:1.02mm; Forward Current If:50mA; Reverse Voltage Vr:3V; Collector Emitter Voltage V(br)ceo:30V; Forward Voltage:1.6V; No. of Channels:4Channels;RoHS Compliant: Yes\">\n",
      "            OPTOSWITCH; Sensor Output:Phototransistor; Sensor Mounting:Through Hole; Sensing  <a class=\"Expander\" href=\"javascript:;\" onclick=\"return ExpandText(this);\" rel=\"nofollow\">See More...</a></span></td> <td class=\"StandardCell hidden-xs hidden-sm hidden-md\"><span>\n",
      "            Yes<br/></span></td> <td class=\"StandardCell hidden-xs\"><a data-ga=\"s:Datasheet\" href=\"http://www.farnell.com/datasheets/625898.pdf\" target=\"_blank\">Datasheet</a></td> <td class=\"StandardCell hidden-xs hidden-sm hidden-md\">\n",
      "        05M0281\n",
      "    </td> <td class=\"StockCell\"><div>Out of Stock</div> <!-- --> <!-- --></td> <td class=\"text-nowrap hidden-xs hidden-sm\"><table class=\"PricingTable\"><tr><td class=\"text-right\">1: </td> <td class=\"text-left\">$0.00</td></tr> <!-- --> </table></td> <td class=\"text-nowrap hidden-md hidden-lg\"><table class=\"PricingTable\"><tr><td class=\"text-right\">1: </td> <td class=\"text-left\">$0.00</td></tr> <!-- --> </table></td> <td class=\"StandardCell hidden-xs hidden-sm hidden-md\">\n",
      "        USD\n",
      "    </td> <td><!-- --> <a class=\"ViewLink ShortViewLink\" data-ga=\"s:View\" href=\"http://www.newark.com/05M0281?CMP=AFC-ECIA\" target=\"_blank\">View</a></td></tr>\n",
      "<tr class=\"search-exact-match \" data-cur=\"USD\" data-dist=\"Sager Electronics [8]\" data-mfr=\"Honeywell [353]\" data-mpn=\"HLC1395-001\" data-parent-sortorder=\"\" data-sortorder=\"09-05550-25705\" data-source=\"Website\" data-stock-avail=\"18 Week Lead Time\" data-stock-qty=\"0\" index=\"index\"><td class=\"DistributorCell\" title=\"Sager Electronics\"><div><span class=\"hidden-xs\"><a data-ga=\"s:Part\" href=\"https://www.sager.com/hlc1395-001-45449.html?SrchType=S&amp;utm_source=ecia&amp;utm_medium=click&amp;utm_campaign=sager-brand\" target=\"_blank\"><img alt=\"Sager Electronics\" class=\"Logo Sponsor\" src=\"https://cdn.eciaauthorized.com/assets/images/companies/sager.png\"/></a> <br/><br/></span> <span class=\"visible-xs\">Sager Electronics</span> <!-- --></div></td> <td><div class=\"visible-sm visible-xs\">Honeywell</div> <div class=\"SearchResultPartNumber\"><a data-ga=\"s:Part\" href=\"https://www.sager.com/hlc1395-001-45449.html?SrchType=S&amp;utm_source=ecia&amp;utm_medium=click&amp;utm_campaign=sager-brand\" target=\"_blank\">HLC1395-001</a></div></td> <td class=\"hidden-sm hidden-xs\">\n",
      "        Honeywell\n",
      "    </td> <td class=\"hidden-sm hidden-xs\"><span>\n",
      "            Photointerrupter Reflective Phototransistor 3-Pin Side Looker\n",
      "        </span></td> <td class=\"StandardCell hidden-xs hidden-sm hidden-md\"><span>\n",
      "            Yes<br/></span></td> <td class=\"StandardCell hidden-xs\"><a data-ga=\"s:Datasheet\" href=\"http://sensing.honeywell.com/product-page?pr_id=40619\" target=\"_blank\">Datasheet</a></td> <td class=\"StandardCell hidden-xs hidden-sm hidden-md\">\n",
      "        HLC1395-001\n",
      "    </td> <td class=\"StockCell\"><div>18 Week Lead Time</div> <!-- --> <!-- --></td> <td class=\"text-nowrap hidden-xs hidden-sm\"><table class=\"PricingTable\"><tr><td class=\"text-right\">100: </td> <td class=\"text-left\">$2.74</td></tr><tr><td class=\"text-right\">300: </td> <td class=\"text-left\">$2.59</td></tr><tr><td class=\"text-right\">500: </td> <td class=\"text-left\">$2.56</td></tr><tr><td class=\"text-right\">1,100: </td> <td class=\"text-left\">See Website</td></tr> <!-- --> </table></td> <td class=\"text-nowrap hidden-md hidden-lg\"><table class=\"PricingTable\"><tr><td class=\"text-right\">100: </td> <td class=\"text-left\">$2.74</td></tr><tr><td class=\"text-right\">300: </td> <td class=\"text-left\">$2.59</td></tr> <tr class=\"text-center\"><td colspan=\"2\"><a class=\"Expander\" href=\"javascript:;\" onclick=\"return ExpandPricing(this);\" rel=\"nofollow\">See More...</a></td></tr> <tr class=\"hidden\"><td class=\"text-right\">500: </td> <td class=\"text-left\">$2.56</td></tr><tr class=\"hidden\"><td class=\"text-right\">1,100: </td> <td class=\"text-left\">See Website</td></tr></table></td> <td class=\"StandardCell hidden-xs hidden-sm hidden-md\">\n",
      "        USD\n",
      "    </td> <td><!-- --> <a class=\"ViewLink ShortViewLink\" data-ga=\"s:View\" href=\"https://www.sager.com/hlc1395-001-45449.html?SrchType=S&amp;utm_source=ecia&amp;utm_medium=click&amp;utm_campaign=sager-brand\" target=\"_blank\">View</a></td></tr>\n",
      "<tr class=\"search-exact-match Even \" data-cur=\"USD\" data-dist=\"Hammond Electronics [45]\" data-mfr=\"Honeywell Sensing &amp; IoT [143]\" data-mpn=\"HLC1395-001\" data-parent-sortorder=\"\" data-sortorder=\"11-01561-29650\" data-source=\"Website\" data-stock-qty=\"0\" index=\"index\"><td class=\"DistributorCell\" title=\"Hammond Electronics\"><div><span class=\"hidden-xs\"><a data-ga=\"s:Part\" href=\"http://sales.hammondelec.com/storefrontB2CWEB/itemdetail.do?action=prepare_detail&amp;itm_id=98698\" target=\"_blank\"><img alt=\"Hammond Electronics\" class=\"Logo\" src=\"https://cdn.eciaauthorized.com/assets/images/companies/hammond.png\"/></a> <br/><br/></span> <span class=\"visible-xs\">Hammond Electronics</span> <!-- --></div></td> <td><div class=\"visible-sm visible-xs\">Honeywell Sensing &amp; IoT</div> <div class=\"SearchResultPartNumber\"><a data-ga=\"s:Part\" href=\"http://sales.hammondelec.com/storefrontB2CWEB/itemdetail.do?action=prepare_detail&amp;itm_id=98698\" target=\"_blank\">HLC1395-001</a></div></td> <td class=\"hidden-sm hidden-xs\">\n",
      "        Honeywell Sensing &amp; IoT\n",
      "    </td> <td class=\"hidden-sm hidden-xs\"><span>\n",
      "            HNWL INFRARED SENSOR100-MOQ /\n",
      "        </span></td> <td class=\"StandardCell hidden-xs hidden-sm hidden-md\"></td> <td class=\"StandardCell hidden-xs\"><!-- --></td> <td class=\"StandardCell hidden-xs hidden-sm hidden-md\">\n",
      "        HLC1395-001\n",
      "    </td> <td class=\"StockCell\"><!-- --> <!-- --> <!-- --></td> <td class=\"text-nowrap hidden-xs hidden-sm\"><table class=\"PricingTable\"><tr><td class=\"text-right\">1: </td> <td class=\"text-left\">$0.00</td></tr> <!-- --> </table></td> <td class=\"text-nowrap hidden-md hidden-lg\"><table class=\"PricingTable\"><tr><td class=\"text-right\">1: </td> <td class=\"text-left\">$0.00</td></tr> <!-- --> </table></td> <td class=\"StandardCell hidden-xs hidden-sm hidden-md\">\n",
      "        USD\n",
      "    </td> <td><!-- --> <a class=\"ViewLink ShortViewLink\" data-ga=\"s:View\" href=\"http://sales.hammondelec.com/storefrontB2CWEB/itemdetail.do?action=prepare_detail&amp;itm_id=98698\" target=\"_blank\">View</a></td></tr>\n"
     ]
    }
   ],
   "source": [
    "for item in items.children: \n",
    "    a = item.children"
   ]
  },
  {
   "cell_type": "code",
   "execution_count": 97,
   "metadata": {},
   "outputs": [
    {
     "data": {
      "text/plain": [
       "<tr class=\"search-exact-match \" data-cur=\"USD\" data-dist=\"Onlinecomponents.com [1336]\" data-mfr=\"Honeywell [353]\" data-mpn=\"HLC1395-001\" data-parent-sortorder=\"\" data-sortorder=\"01-01301-07050\" data-source=\"Website\" data-stock-avail=\"In Stock &lt;br&gt;1,000 On Order\" data-stock-qty=\"846\" index=\"index\"><td class=\"DistributorCell\" title=\"Onlinecomponents.com\"><div><span class=\"hidden-xs\"><a data-ga=\"s:Part\" href=\"https://www.onlinecomponents.com/honeywell-hlc1395001.html?p=11934363&amp;utm_source=eciaauth&amp;amp;utm_medium=inventoryrefferal&amp;amp;utm_campaign=eciaauth\" target=\"_blank\"><img alt=\"Onlinecomponents.com\" class=\"Logo Sponsor\" src=\"https://cdn.eciaauthorized.com/assets/images/companies/onlinecomponents_sponsor.png\"/></a> <br/><br/></span> <span class=\"visible-xs\">Onlinecomponents.com</span> <!-- --></div></td> <td><div class=\"visible-sm visible-xs\">Honeywell</div> <div class=\"SearchResultPartNumber\"><a data-ga=\"s:Part\" href=\"https://www.onlinecomponents.com/honeywell-hlc1395001.html?p=11934363&amp;utm_source=eciaauth&amp;amp;utm_medium=inventoryrefferal&amp;amp;utm_campaign=eciaauth\" target=\"_blank\">HLC1395-001</a></div></td> <td class=\"hidden-sm hidden-xs\">\n",
       "        Honeywell\n",
       "    </td> <td class=\"hidden-sm hidden-xs\"><span>\n",
       "            Over 10,000 Honeywell part #s In-Stock. Super Pricing, Easy Checkout, &amp; Flat Rate Shipping.\n",
       "        </span></td> <td class=\"StandardCell hidden-xs hidden-sm hidden-md\"><span>\n",
       "            Yes<br/></span></td> <td class=\"StandardCell hidden-xs\"><a data-ga=\"s:Datasheet\" href=\"http://download.siliconexpert.com/pdfs/2005/04/01/semi_b/cs/hnw/ds/hlc1395-001.pdf\" target=\"_blank\">Datasheet</a></td> <td class=\"StandardCell hidden-xs hidden-sm hidden-md\">\n",
       "        HLC1395-001\n",
       "    </td> <td class=\"StockCell\"><div>\n",
       "            846\n",
       "            <br/> <div>In Stock <br/>1,000 On Order</div></div> <!-- --> <!-- --></td> <td class=\"text-nowrap hidden-xs hidden-sm\"><table class=\"PricingTable\"><tr><td class=\"text-right\">1: </td> <td class=\"text-left\">$3.50</td></tr><tr><td class=\"text-right\">25: </td> <td class=\"text-left\">$3.32</td></tr><tr><td class=\"text-right\">100: </td> <td class=\"text-left\">$3.16</td></tr><tr><td class=\"text-right\">500: </td> <td class=\"text-left\">$3.00</td></tr><tr><td class=\"text-right\">1,000: </td> <td class=\"text-left\">$2.89</td></tr> <tr class=\"text-center\"><td colspan=\"2\"><a class=\"Expander\" href=\"javascript:;\" onclick=\"return ExpandPricing(this);\" rel=\"nofollow\">See More...</a></td></tr> <tr class=\"hidden\"><td class=\"text-right\">5,000: </td> <td class=\"text-left\">$2.82</td></tr></table></td> <td class=\"text-nowrap hidden-md hidden-lg\"><table class=\"PricingTable\"><tr><td class=\"text-right\">1: </td> <td class=\"text-left\">$3.50</td></tr><tr><td class=\"text-right\">25: </td> <td class=\"text-left\">$3.32</td></tr> <tr class=\"text-center\"><td colspan=\"2\"><a class=\"Expander\" href=\"javascript:;\" onclick=\"return ExpandPricing(this);\" rel=\"nofollow\">See More...</a></td></tr> <tr class=\"hidden\"><td class=\"text-right\">100: </td> <td class=\"text-left\">$3.16</td></tr><tr class=\"hidden\"><td class=\"text-right\">500: </td> <td class=\"text-left\">$3.00</td></tr><tr class=\"hidden\"><td class=\"text-right\">1,000: </td> <td class=\"text-left\">$2.89</td></tr><tr class=\"hidden\"><td class=\"text-right\">5,000: </td> <td class=\"text-left\">$2.82</td></tr></table></td> <td class=\"StandardCell hidden-xs hidden-sm hidden-md\">\n",
       "        USD\n",
       "    </td> <td><a class=\"BuyLink ShortBuyLink\" data-ga=\"s:Buy\" href=\"https://www.onlinecomponents.com/honeywell-hlc1395001.html?p=11934363&amp;utm_source=eciaauth&amp;amp;utm_medium=inventoryrefferal&amp;amp;utm_campaign=eciaauth\" target=\"_blank\">Buy</a> <!-- --></td></tr>"
      ]
     },
     "execution_count": 97,
     "metadata": {},
     "output_type": "execute_result"
    }
   ],
   "source": [
    "items.tr"
   ]
  },
  {
   "cell_type": "code",
   "execution_count": null,
   "metadata": {},
   "outputs": [],
   "source": [
    "# 望求多福"
   ]
  }
 ],
 "metadata": {
  "kernelspec": {
   "display_name": "Python 3",
   "language": "python",
   "name": "python3"
  },
  "language_info": {
   "codemirror_mode": {
    "name": "ipython",
    "version": 3
   },
   "file_extension": ".py",
   "mimetype": "text/x-python",
   "name": "python",
   "nbconvert_exporter": "python",
   "pygments_lexer": "ipython3",
   "version": "3.5.2"
  }
 },
 "nbformat": 4,
 "nbformat_minor": 2
}
